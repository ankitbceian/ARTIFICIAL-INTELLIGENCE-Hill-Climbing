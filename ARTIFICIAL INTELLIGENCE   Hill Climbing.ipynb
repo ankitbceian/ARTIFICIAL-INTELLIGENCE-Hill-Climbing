{
  "nbformat": 4,
  "nbformat_minor": 0,
  "metadata": {
    "colab": {
      "provenance": []
    },
    "kernelspec": {
      "name": "python3",
      "display_name": "Python 3"
    },
    "language_info": {
      "name": "python"
    }
  },
  "cells": [
    {
      "cell_type": "markdown",
      "source": [
        "#importing required module"
      ],
      "metadata": {
        "id": "tYh5TDI5UnD2"
      }
    },
    {
      "cell_type": "code",
      "source": [
        "import copy\n",
        "import time"
      ],
      "metadata": {
        "id": "t1UK1vlKTgZc"
      },
      "execution_count": null,
      "outputs": []
    },
    {
      "cell_type": "markdown",
      "source": [
        "generate targetstate"
      ],
      "metadata": {
        "id": "xFNszgcHUqlI"
      }
    },
    {
      "cell_type": "markdown",
      "source": [],
      "metadata": {
        "id": "41yvpDHBURS8"
      }
    },
    {
      "cell_type": "code",
      "execution_count": null,
      "metadata": {
        "id": "ecode7Y6PSP7"
      },
      "outputs": [],
      "source": [
        "def getinitialstate():\n",
        "    print(\"Enter 1 for Random grid.\\nEnter 2 for user input .\")\n",
        "    choice = int(input(\"Enter your choice : \"))\n",
        "    lst = []\n",
        "    if(choice==2):\n",
        "        n = int(input(\"Enter order of Puzzle (blank = -1): \"))\n",
        "        for i in range(1, n+1):\n",
        "            print(\"Enter row \", i, \": \", sep=\" \", end=\" \")\n",
        "            lst.append(list(map(int, input().split())))\n",
        "    else:\n",
        "        lst = [[3, 2, 1],\n",
        "                [4, 5, 6],\n",
        "                [8, 7, -1]]\n",
        "\n",
        "    return lst\n"
      ]
    },
    {
      "cell_type": "markdown",
      "source": [
        "#generate targetstate"
      ],
      "metadata": {
        "id": "r5Teb_yZVmC6"
      }
    },
    {
      "cell_type": "code",
      "source": [
        "def gettarget(n):\n",
        "    k = 1\n",
        "    target = []\n",
        "    for i in range(n):\n",
        "        temp = []\n",
        "        for j in range(n):\n",
        "            temp.append(k)\n",
        "            k+=1\n",
        "        target.append(temp)\n",
        "    target[n-1][n-1] = -1\n",
        "    return target"
      ],
      "metadata": {
        "id": "TtXIN3z3QiXK"
      },
      "execution_count": null,
      "outputs": []
    },
    {
      "cell_type": "markdown",
      "source": [
        "left shift of blank"
      ],
      "metadata": {
        "id": "-aWTJOOuU53r"
      }
    },
    {
      "cell_type": "code",
      "source": [
        "def leftstate(initialstate, x, y):\n",
        "    initialstate[x][y],initialstate[x][y-1] = initialstate[x][y-1], initialstate[x][y]\n",
        "    return initialstate"
      ],
      "metadata": {
        "id": "gzbtObvmQlG0"
      },
      "execution_count": null,
      "outputs": []
    },
    {
      "cell_type": "markdown",
      "source": [
        "right shift of blank"
      ],
      "metadata": {
        "id": "QQDrkQ4HVCnA"
      }
    },
    {
      "cell_type": "code",
      "source": [
        "def rightstate(initialstate, x, y):\n",
        "    initialstate[x][y], initialstate[x][y + 1] = initialstate[x][y + 1], initialstate[x][y]\n",
        "    return initialstate\n"
      ],
      "metadata": {
        "id": "0E8NQhMYRTD0"
      },
      "execution_count": null,
      "outputs": []
    },
    {
      "cell_type": "markdown",
      "source": [
        "#up shift of blank"
      ],
      "metadata": {
        "id": "RoXv-lRXVUUZ"
      }
    },
    {
      "cell_type": "code",
      "source": [
        "def upstate(initialstate, x, y):\n",
        "    initialstate[x-1][y], initialstate[x][y] = initialstate[x][y], initialstate[x-1][y]\n",
        "    return initialstate"
      ],
      "metadata": {
        "id": "4SnamSPnRVb7"
      },
      "execution_count": null,
      "outputs": []
    },
    {
      "cell_type": "markdown",
      "source": [
        "#down shift of blank"
      ],
      "metadata": {
        "id": "Gkta8UbUVZN6"
      }
    },
    {
      "cell_type": "code",
      "source": [
        "def downstate(initialstate, x, y):\n",
        "    initialstate[x][y], initialstate[x+1][y] = initialstate[x+1][y], initialstate[x][y]\n",
        "    return initialstate\n"
      ],
      "metadata": {
        "id": "DOLkgIVOReoD"
      },
      "execution_count": null,
      "outputs": []
    },
    {
      "cell_type": "markdown",
      "source": [
        "#compare search state and target state"
      ],
      "metadata": {
        "id": "crKjeYXhWPF-"
      }
    },
    {
      "cell_type": "code",
      "source": [
        "def compare_initial_target(initialstate, targetstate):\n",
        "  for i in range(len(initialstate)):\n",
        "        for j in range(len(initialstate[i])):\n",
        "            if initialstate[i][j] != targetstate[i][j]:\n",
        "                return False\n",
        "  return True"
      ],
      "metadata": {
        "id": "R18SPEb1RnQ8"
      },
      "execution_count": null,
      "outputs": []
    },
    {
      "cell_type": "markdown",
      "source": [
        "#finding position of blank"
      ],
      "metadata": {
        "id": "b10Upa57WTP5"
      }
    },
    {
      "cell_type": "code",
      "source": [
        "def find_position_of_blank(statelist):\n",
        "    for i in range(len(statelist)):\n",
        "        for j in range(len(statelist[i])):\n",
        "            if statelist[i][j] == -1:\n",
        "                return (i, j)\n",
        "    return (2, 2)\n"
      ],
      "metadata": {
        "id": "05x3Eo8ARz98"
      },
      "execution_count": null,
      "outputs": []
    },
    {
      "cell_type": "markdown",
      "source": [
        "#find mahatten distance"
      ],
      "metadata": {
        "id": "XO0Io7llWcWk"
      }
    },
    {
      "cell_type": "code",
      "source": [
        "def find_manhatten_distance(initialstate):\n",
        "    d = {1:[0,0], 2:[0,1], 3:[0,2], 4:[1,0], 5:[1,1], 6:[1,2], 7:[2.,0], 8:[2,1]}\n",
        "    manhatten = 0\n",
        "    for i in range(len(initialstate)):\n",
        "      for j in range(len(initialstate[i])):\n",
        "        if initialstate[i][j]!=-1:\n",
        "          x, y = d[initialstate[i][j]]\n",
        "          manhatten = manhatten + abs(x-i) + abs(y-j)\n",
        "    return manhatten;"
      ],
      "metadata": {
        "id": "yTuU5CbISA3D"
      },
      "execution_count": null,
      "outputs": []
    },
    {
      "cell_type": "markdown",
      "source": [
        "#find sum  of misplaced tiles"
      ],
      "metadata": {
        "id": "1wMZcgkCWjdi"
      }
    },
    {
      "cell_type": "code",
      "source": [
        "def find_number_of_misplaced_tiles(initialstate):\n",
        "    k = 1\n",
        "    misplaced = 0\n",
        "    for i in range(len(initialstate)):\n",
        "      for j in range(len(initialstate[i])):\n",
        "        if initialstate[i][j]!=-1:\n",
        "          if(k!=initialstate[i][j]):\n",
        "            misplaced = misplaced + 1\n",
        "        k = k+1\n",
        "    return misplaced"
      ],
      "metadata": {
        "id": "xSQhrKxiSKsz"
      },
      "execution_count": null,
      "outputs": []
    },
    {
      "cell_type": "code",
      "source": [
        "def print_state(initialstate):\n",
        "  for i in range(len(initialstate)):\n",
        "    for j in range(len(initialstate[i])):\n",
        "      print(initialstate[i][j],sep=\" \",end=\" \")\n",
        "    print()\n"
      ],
      "metadata": {
        "id": "mUQKHaXESWfS"
      },
      "execution_count": null,
      "outputs": []
    },
    {
      "cell_type": "markdown",
      "source": [
        "***HILL CLIMBING ***"
      ],
      "metadata": {
        "id": "JVHGBBVfWzIq"
      }
    },
    {
      "cell_type": "code",
      "source": [
        "#puzzle solved for Hill climbing\n",
        "def hill_climb(initialstate,targetstate, h_function):\n",
        "    startTime = time.time()\n",
        "    lenoflist = len(initialstate)\n",
        "    stepcount = 0\n",
        "    curr_h_value = h_function(initialstate)\n",
        "    curr_state = initialstate\n",
        "    lst = []\n",
        "    count = 0\n",
        "    while(count<=100):\n",
        "        path = \"\"\n",
        "        if(compare_initial_target(initialstate, targetstate)):\n",
        "            return [stepcount, lst, True, time.time()-startTime]\n",
        "        stepcount = stepcount + 1\n",
        "        x, y = find_position_of_blank(initialstate)\n",
        "        if(x<lenoflist-1):\n",
        "            downlist = downstate(copy.deepcopy(initialstate), x, y)\n",
        "            temp = h_function(downlist)\n",
        "            if(curr_h_value >= temp):\n",
        "              path = \"down\"\n",
        "              curr_h_value = temp\n",
        "              curr_state = downlist\n",
        "        if(x>0):\n",
        "            uplist = upstate(copy.deepcopy(initialstate), x, y)\n",
        "            temp = h_function(uplist)\n",
        "            if(curr_h_value >= temp):\n",
        "              path = \"up\"\n",
        "              curr_h_value = temp\n",
        "              curr_state = uplist\n",
        "        if (y > 0):\n",
        "            leftlist = leftstate(copy.deepcopy(initialstate), x, y)\n",
        "            temp = h_function(leftlist)\n",
        "            if(curr_h_value >= temp):\n",
        "              path = \"left\"\n",
        "              curr_h_value = temp\n",
        "              curr_state = leftlist\n",
        "        if(y<lenoflist-1):\n",
        "            rightlist = rightstate(copy.deepcopy(initialstate), x, y)\n",
        "            temp = h_function(rightlist)\n",
        "            if(curr_h_value >= temp):\n",
        "              path = \"right\"\n",
        "              curr_h_value = temp\n",
        "              curr_state = rightlist\n",
        "        if(curr_state==initialstate):\n",
        "          return [stepcount, lst, False, time.time()-startTime]\n",
        "        if(curr_h_value==h_function(initialstate)):\n",
        "          count+=1\n",
        "        else:\n",
        "          count = 0\n",
        "        initialstate = curr_state\n",
        "        lst.append(path)\n",
        "    return [stepcount, lst, False, time.time()-startTime]\n",
        "\n"
      ],
      "metadata": {
        "id": "HnrXvzDUS4-j"
      },
      "execution_count": null,
      "outputs": []
    },
    {
      "cell_type": "code",
      "source": [
        "initialstate = getinitialstate()\n",
        "targetstate = gettarget(len(initialstate))\n",
        "print(\"initial state :\")\n",
        "print_state(initialstate)\n",
        "print(\"target state\")\n",
        "print_state(targetstate)\n",
        "print(\"Hill Climing Search with manhatten Distance \")\n",
        "lst1 = hill_climb(initialstate, targetstate, find_manhatten_distance)\n",
        "if(lst1[2]==True):\n",
        "  print(\"Goal found Successfully\")\n",
        "  print(\"Total number of states explored: \", len(lst1[1]))\n",
        "  print(\"Total number of states to the optimal path : \",len(lst1[1]))\n",
        "  print(\"Optimal Path : \",lst1[1])\n",
        "  print(\"Optimal Path Cost: \",lst1[0])\n",
        "  print(\"Time taken for execution : \",lst1[3])\n",
        "else:\n",
        "  print(\"Goal not found !\")\n",
        "  print(\"Total number of states explored: \", len(lst1[1])+1)\n",
        "  print(\"Time taken for execution : \",round(lst1[3],3))\n",
        "\n",
        "print(\"\\n\\nHill Climing Search with misplaced tiles \")\n",
        "lst1 = hill_climb(initialstate, targetstate, find_number_of_misplaced_tiles)\n",
        "if(lst1[2]==True):\n",
        "  print(\"Goal found Successfully\")\n",
        "  print(\"Total number of states explored: \", len(lst1[1]))\n",
        "  print(\"Total number of states to the optimal path : \",len(lst1[1]))\n",
        "  print(\"Optimal Path : \",lst1[1])\n",
        "  print(\"Optimal Path Cost: \",lst1[0])\n",
        "  print(\"Time taken for execution : \",round(lst1[3],3))\n",
        "else:\n",
        "  print(\"Goal not found !\")\n",
        "  print(\"Total number of states explored: \", len(lst1[1])+1)\n",
        "  print(\"Time taken for execution : \",round(lst1[3],3))"
      ],
      "metadata": {
        "colab": {
          "base_uri": "https://localhost:8080/"
        },
        "id": "AfnUn8yV6Ieu",
        "outputId": "03a1df2d-4d58-4860-a788-96a678d7a9c8"
      },
      "execution_count": null,
      "outputs": [
        {
          "output_type": "stream",
          "name": "stdout",
          "text": [
            "Enter 1 for Random grid.\n",
            "Enter 2 for user input .\n",
            "Enter your choice : 1\n",
            "initial state :\n",
            "3 2 1 \n",
            "4 5 6 \n",
            "8 7 -1 \n",
            "target state\n",
            "1 2 3 \n",
            "4 5 6 \n",
            "7 8 -1 \n",
            "Hill Climing Search with manhatten Distance \n",
            "Goal not found !\n",
            "Total number of states explored:  1\n",
            "Time taken for execution :  0.0\n",
            "\n",
            "\n",
            "Hill Climing Search with misplaced tiles \n",
            "Goal not found !\n",
            "Total number of states explored:  3\n",
            "Time taken for execution :  0.0\n"
          ]
        }
      ]
    },
    {
      "cell_type": "markdown",
      "source": [],
      "metadata": {
        "id": "PiOFOsMAIgp7"
      }
    }
  ]
}